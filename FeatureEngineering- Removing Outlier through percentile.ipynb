{
 "cells": [
  {
   "cell_type": "code",
   "execution_count": 45,
   "id": "cc53e81b",
   "metadata": {},
   "outputs": [],
   "source": [
    "import pandas as pd \n",
    "import matplotlib.pyplot as plt"
   ]
  },
  {
   "cell_type": "code",
   "execution_count": 46,
   "id": "15c8de82",
   "metadata": {},
   "outputs": [
    {
     "data": {
      "text/plain": [
       "count    48895.000000\n",
       "mean       152.720687\n",
       "std        240.154170\n",
       "min          0.000000\n",
       "25%         69.000000\n",
       "50%        106.000000\n",
       "75%        175.000000\n",
       "max      10000.000000\n",
       "Name: price, dtype: float64"
      ]
     },
     "execution_count": 46,
     "metadata": {},
     "output_type": "execute_result"
    }
   ],
   "source": [
    "df = pd.read_csv('AB_NYC_2019.csv')\n",
    "df.price.describe()"
   ]
  },
  {
   "cell_type": "code",
   "execution_count": 47,
   "id": "8ca5e931",
   "metadata": {},
   "outputs": [
    {
     "data": {
      "text/plain": [
       "(60.0, 200.0)"
      ]
     },
     "execution_count": 47,
     "metadata": {},
     "output_type": "execute_result"
    }
   ],
   "source": [
    "low_range , high_range = df.price.quantile([0.2,0.8])\n",
    "low_range,high_range"
   ]
  },
  {
   "cell_type": "code",
   "execution_count": 48,
   "id": "4b803473",
   "metadata": {},
   "outputs": [],
   "source": [
    "clean_df = df[(df.price>low_range)&(df.price<high_range)]"
   ]
  },
  {
   "cell_type": "code",
   "execution_count": 50,
   "id": "bce09af9",
   "metadata": {
    "scrolled": true
   },
   "outputs": [],
   "source": [
    "clean_df.to_csv('Cleaned_Data(Price only).csv')"
   ]
  },
  {
   "cell_type": "code",
   "execution_count": null,
   "id": "408ccbd8",
   "metadata": {},
   "outputs": [],
   "source": []
  }
 ],
 "metadata": {
  "kernelspec": {
   "display_name": "Python 3",
   "language": "python",
   "name": "python3"
  },
  "language_info": {
   "codemirror_mode": {
    "name": "ipython",
    "version": 3
   },
   "file_extension": ".py",
   "mimetype": "text/x-python",
   "name": "python",
   "nbconvert_exporter": "python",
   "pygments_lexer": "ipython3",
   "version": "3.8.8"
  }
 },
 "nbformat": 4,
 "nbformat_minor": 5
}
